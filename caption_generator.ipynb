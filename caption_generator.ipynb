{
 "cells": [
  {
   "cell_type": "markdown",
   "metadata": {},
   "source": [
    "## Import all the necessary packages"
   ]
  },
  {
   "cell_type": "code",
   "execution_count": 7,
   "metadata": {},
   "outputs": [],
   "source": [
    "import string\n",
    "import numpy as np\n",
    "from PIL import Image\n",
    "import os\n",
    "from pickle import dump, load\n",
    "import numpy as np\n",
    "from keras.applications.xception import Xception, preprocess_input\n",
    "from keras.preprocessing.image import load_img, img_to_array\n",
    "from keras.preprocessing.text import Tokenizer\n",
    "from keras.preprocessing.sequence import pad_sequences\n",
    "from keras.utils import to_categorical\n",
    "from keras.layers.merge import add\n",
    "from keras.models import Model, load_model\n",
    "from keras.layers import Input, Dense, LSTM, Embedding, Dropout"
   ]
  },
  {
   "cell_type": "code",
   "execution_count": 8,
   "metadata": {},
   "outputs": [
    {
     "name": "stderr",
     "output_type": "stream",
     "text": [
      "C:\\Users\\daani\\AppData\\Local\\Programs\\Python\\Python37\\lib\\site-packages\\ipykernel_launcher.py:2: TqdmDeprecationWarning: This function will be removed in tqdm==5.0.0\n",
      "Please use `tqdm.notebook.tqdm` instead of `tqdm.tqdm_notebook`\n",
      "  \n"
     ]
    },
    {
     "data": {
      "application/vnd.jupyter.widget-view+json": {
       "model_id": "c15f70b8e5284a068729bd861874dea2",
       "version_major": 2,
       "version_minor": 0
      },
      "text/plain": [
       "HBox(children=(FloatProgress(value=1.0, bar_style='info', max=1.0), HTML(value='')))"
      ]
     },
     "metadata": {},
     "output_type": "display_data"
    }
   ],
   "source": [
    "from tqdm import tqdm_notebook as tqdm\n",
    "tqdm().pandas()"
   ]
  },
  {
   "cell_type": "markdown",
   "metadata": {},
   "source": [
    "## Preprocessing the data"
   ]
  },
  {
   "cell_type": "code",
   "execution_count": 9,
   "metadata": {},
   "outputs": [
    {
     "name": "stdout",
     "output_type": "stream",
     "text": [
      "\n"
     ]
    }
   ],
   "source": [
    "## Loading the document file and reading the contents inside the file into a string\n",
    "def load_doc(fn):\n",
    "    file = open(fn, 'r')\n",
    "    text = file.read()\n",
    "    file.close()\n",
    "    return text\n",
    "\n",
    "## Create a descriptions disctionary that maps images with a list of 5 captions\n",
    "def all_img_captions(fn):\n",
    "    file = load_doc(fn)\n",
    "    capt = file.split('\\n')\n",
    "    d = {}\n",
    "    for i in capt[:-1]:\n",
    "        img, i = i.split('\\t')\n",
    "        if img[:-2] not in d:\n",
    "            d[img[:-2]] = [i]\n",
    "        else:\n",
    "            d[img[:-2]].append(capt)\n",
    "    return d\n",
    "\n",
    "## Removing punctuations, converting all text to lowercase and removing words that contain numbers \n",
    "def cleaning_text(captions):\n",
    "    table = str.maketrans('','',string.punctuation)\n",
    "    for img,caps in captions.items():\n",
    "        for i,img_caption in enumerate(caps):\n",
    "            desc = ''\n",
    "            for x in range(len(img_caption)):\n",
    "                img_caption[x].replace(\"-\",\" \")\n",
    "                desc = img_caption[x].split()\n",
    "            #converts to lowercase\n",
    "            desc = [word.lower() for word in desc]\n",
    "            #remove punctuation from each token\n",
    "            desc = [word.translate(table) for word in desc]\n",
    "            #remove hanging 's and a \n",
    "            desc = [word for word in desc if(len(word)>1)]\n",
    "            #remove tokens with numbers in them\n",
    "            desc = [word for word in desc if(word.isalpha())]\n",
    "            #convert back to string\n",
    "            img_caption = ' '.join(desc)\n",
    "            captions[img][i]= img_caption\n",
    "    return captions\n",
    "\n",
    "## Seperate all the unique words and create the vocabulary from all the descriptions\n",
    "def text_vocabulary(text):\n",
    "    v = set()\n",
    "    for key in text.keys():\n",
    "        [v.update(d.split()) for d in text[key]]\n",
    "    return v\n",
    "\n",
    "## Create a list of all the descriptions that have been preprocessed and store them into a file\n",
    "def save_descriptions(d, fn):\n",
    "    lines = list()\n",
    "    for key, text_list in d.items():\n",
    "        for i in text_list:\n",
    "            lines.append(key + '\\t' + i)\n",
    "    n = \"\\n\".join(lines)\n",
    "    file = open(fn,\"w\")\n",
    "    file.write(n)\n",
    "    file.close()"
   ]
  },
  {
   "cell_type": "code",
   "execution_count": 10,
   "metadata": {},
   "outputs": [],
   "source": [
    "# Set the path\n",
    "dataset_text = \"Flickr8k_text\"\n",
    "dataset_images = \"Flickr8k_Dataset\"\n",
    "\n",
    "# Prepare the text data\n",
    "fn = dataset_text + \"/\" + \"Flickr8k.token.txt\""
   ]
  },
  {
   "cell_type": "code",
   "execution_count": 11,
   "metadata": {},
   "outputs": [
    {
     "name": "stdout",
     "output_type": "stream",
     "text": [
      "Length of descriptions =  8092\n"
     ]
    }
   ],
   "source": [
    "# Loading file containing data and mapping them into dictionary\n",
    "desc = all_img_captions(fn)\n",
    "print(\"Length of descriptions = \" ,len(desc))"
   ]
  },
  {
   "cell_type": "code",
   "execution_count": 12,
   "metadata": {},
   "outputs": [],
   "source": [
    "# cleaning the text\n",
    "clean = cleaning_text(desc)"
   ]
  },
  {
   "cell_type": "code",
   "execution_count": 13,
   "metadata": {},
   "outputs": [
    {
     "name": "stdout",
     "output_type": "stream",
     "text": [
      "Length of vocab =  0\n"
     ]
    }
   ],
   "source": [
    "# building vocab\n",
    "vocab = text_vocabulary(clean)\n",
    "print(\"Length of vocab = \" , len(vocab))"
   ]
  },
  {
   "cell_type": "code",
   "execution_count": 14,
   "metadata": {},
   "outputs": [],
   "source": [
    "save_descriptions(clean, \"descriptions.txt\")"
   ]
  },
  {
   "cell_type": "code",
   "execution_count": null,
   "metadata": {},
   "outputs": [],
   "source": []
  }
 ],
 "metadata": {
  "kernelspec": {
   "display_name": "U4-S1-NLP (Python3)",
   "language": "python",
   "name": "u4-s1-nlp"
  },
  "language_info": {
   "codemirror_mode": {
    "name": "ipython",
    "version": 3
   },
   "file_extension": ".py",
   "mimetype": "text/x-python",
   "name": "python",
   "nbconvert_exporter": "python",
   "pygments_lexer": "ipython3",
   "version": "3.7.1"
  }
 },
 "nbformat": 4,
 "nbformat_minor": 4
}
