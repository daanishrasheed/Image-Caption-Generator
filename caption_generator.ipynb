{
 "cells": [
  {
   "cell_type": "markdown",
   "metadata": {},
   "source": [
    "## Import all the necessary packages"
   ]
  },
  {
   "cell_type": "code",
   "execution_count": 1,
   "metadata": {},
   "outputs": [],
   "source": [
    "import string\n",
    "import numpy as np\n",
    "from PIL import Image\n",
    "import os\n",
    "from pickle import dump, load\n",
    "import numpy as np\n",
    "from keras.applications.xception import Xception, preprocess_input\n",
    "from keras.preprocessing.image import load_img, img_to_array\n",
    "from keras.preprocessing.text import Tokenizer\n",
    "from keras.preprocessing.sequence import pad_sequences\n",
    "from keras.utils import to_categorical\n",
    "from keras.layers.merge import add\n",
    "from keras.models import Model, load_model\n",
    "from keras.layers import Input, Dense, LSTM, Embedding, Dropout"
   ]
  },
  {
   "cell_type": "code",
   "execution_count": 2,
   "metadata": {},
   "outputs": [
    {
     "name": "stderr",
     "output_type": "stream",
     "text": [
      "C:\\Users\\daani\\AppData\\Local\\Programs\\Python\\Python37\\lib\\site-packages\\ipykernel_launcher.py:2: TqdmDeprecationWarning: This function will be removed in tqdm==5.0.0\n",
      "Please use `tqdm.notebook.tqdm` instead of `tqdm.tqdm_notebook`\n",
      "  \n"
     ]
    },
    {
     "data": {
      "application/vnd.jupyter.widget-view+json": {
       "model_id": "b0309938d12848eebf722efb584e6f3b",
       "version_major": 2,
       "version_minor": 0
      },
      "text/plain": [
       "HBox(children=(FloatProgress(value=1.0, bar_style='info', max=1.0), HTML(value='')))"
      ]
     },
     "metadata": {},
     "output_type": "display_data"
    }
   ],
   "source": [
    "from tqdm import tqdm_notebook as tqdm\n",
    "tqdm().pandas()"
   ]
  },
  {
   "cell_type": "markdown",
   "metadata": {},
   "source": [
    "## Preprocessing the data"
   ]
  },
  {
   "cell_type": "code",
   "execution_count": null,
   "metadata": {},
   "outputs": [],
   "source": [
    "## Loading the document file and reading the contents inside the file into a string\n",
    "def load_doc(fn):\n",
    "    file = open(fn, 'r')\n",
    "    text = file.read()\n",
    "    file.close()\n",
    "    return text\n",
    "\n",
    "## Create a descriptions disctionary that maps images with a list of 5 captions\n",
    "def all_img_captions(fn):\n",
    "    file = load_doc(fn)\n",
    "    capt = file.split('\\n')\n",
    "    d = {}\n",
    "    for i in capt[:-1]:\n",
    "        img, i = i.split('\\t')\n",
    "        if img[:-2] not in d:\n",
    "            d[img[:-2]] = [i]\n",
    "        else:\n",
    "            d[img[:-2]].append(capt)\n",
    "    return d\n",
    "\n",
    "## Removing punctuations, converting all text to lowercase and removing words that contain numbers \n",
    "def cleaning_text(text):\n",
    "    t = str.maketrans('','',string.punctuation)\n",
    "    for img, t in text.items():\n",
    "        for i, ti in enumerate(t):\n",
    "            ti.replace(\"-\", \" \")\n",
    "            d = ti.split()\n",
    "            \n",
    "            # to lowercase\n",
    "            d = [word.lower() for word in d]\n",
    "            # remove puctuation from each word\n",
    "            d = [word.translate(table) for word in d]\n",
    "            # remove hanging 's and a\n",
    "            d = [word for word in d if(len(word)>1)]\n",
    "            # remove words with numbers in them\n",
    "            d = [word for word in d if(word.isalpha())]\n",
    "            # convert back to string\n",
    "            ti = ' '.join(d)\n",
    "            text[img][i] = ti\n",
    "    return text\n",
    "\n",
    "## Seperate all the unique words and create the vocabulary from all the descriptions\n",
    "def text_vocabulary(text)\n",
    "    v = set()\n",
    "    for key in text.keys():\n",
    "        [vocab.update(d.split()) for d in text[key]]\n",
    "    return v\n",
    "\n",
    "## Create a list of all the descriptions that have been preprocessed and store them into a file\n",
    "def save_descriptions(d, fn):\n",
    "    lines = list()\n",
    "    for key, text_list in d.items():\n",
    "        for i in text_list:\n",
    "            lines.append(key + '\\t' + i)\n",
    "    n = \"\\n\".join(lines)\n",
    "    file = open(fn,\"w\")\n",
    "    "
   ]
  }
 ],
 "metadata": {
  "kernelspec": {
   "display_name": "U4-S1-NLP (Python3)",
   "language": "python",
   "name": "u4-s1-nlp"
  },
  "language_info": {
   "codemirror_mode": {
    "name": "ipython",
    "version": 3
   },
   "file_extension": ".py",
   "mimetype": "text/x-python",
   "name": "python",
   "nbconvert_exporter": "python",
   "pygments_lexer": "ipython3",
   "version": "3.7.1"
  }
 },
 "nbformat": 4,
 "nbformat_minor": 4
}
